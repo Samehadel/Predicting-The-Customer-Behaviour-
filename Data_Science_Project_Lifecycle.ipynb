{
 "cells": [
  {
   "cell_type": "markdown",
   "metadata": {},
   "source": [
    "# Data Science Project Lifecycle"
   ]
  },
  {
   "cell_type": "markdown",
   "metadata": {},
   "source": [
    "## Getting Started:\n",
    "* Import the dataset\n",
    "* print the number of features and the length\n",
    "* Explore the very first 5 rows to get a little intuition about the dataset."
   ]
  },
  {
   "cell_type": "markdown",
   "metadata": {},
   "source": [
    "## Data Exploration\n",
    "In this section of this project, I will make a cursory investigation about the dataset and provide some observations. Also I'm gooing to Familiarize myself with the data through an `explorative` process and it is a fundamental process to help us better understand the data and justify the final results. So we are going to walk through the following\n",
    "* Calculate `Statistics` for numerical features\n",
    "* Get information about the dataset and its dtypes to detect null values\n",
    "* Plot Histograms to `Visualize Feature Distributions` in the dataset(Detect Skewness)"
   ]
  },
  {
   "cell_type": "markdown",
   "metadata": {},
   "source": [
    "## Correlation Testing\n",
    "In this section of this project I'm going to find the correlations in the dataset. Because detecting these correlations can help us in `Feature Selection` process in order to minimize the number of features in the dataset.\n",
    "#### **NOTE:**\n",
    "In this process we need to detect the correlated features exculsive the target feature because such correlation will affect the final result of the model.\n"
   ]
  },
  {
   "cell_type": "markdown",
   "metadata": {},
   "source": [
    "## Outlier Detection:\n",
    "In this section I'm going to apply some techniques to detect the outliers in the dataset. Outlier can be source of information in the dataset on the other hand it maybe lead to bad results or biased result. So we need to detect them and treat them in the `Preprocessing` stage. "
   ]
  },
  {
   "cell_type": "markdown",
   "metadata": {},
   "source": [
    "## Data Preprocessing\n",
    "#### In this section of this project I'm going to apply:\n",
    "* `Feature Engineering` in order to extract some valueable features that hidden the dataset.\n",
    "* Treat the `null` values\n",
    "* Take action with `detected outilers`(remove or keep)\n",
    "* Apply `Feature Scaling` (Transformation)\n",
    "* Split the dataset into `Trainset` and `Testset`"
   ]
  },
  {
   "cell_type": "markdown",
   "metadata": {},
   "source": [
    "## Model Selection\n",
    "#### In this Process I'm going to apply the following:\n",
    "* Pick up the most `appropriate models` that best-fit the problem I'm trying to solve.\n",
    "* Define the required metrics that need to evaluate the model performance.\n",
    "* Filter these models by testing them by ploting `learing curve` for each one."
   ]
  },
  {
   "cell_type": "markdown",
   "metadata": {},
   "source": [
    "## Fine Tune the Model\n",
    "In this sectoin of this project I'm going to fine tune the model's hyperparameters using `Grid Search` Technique in order to improve the performance of the model. And maybe I can apply an `ensemble` method to enrich the performance."
   ]
  },
  {
   "cell_type": "markdown",
   "metadata": {},
   "source": [
    "## Model Evaluation\n",
    "In this section of the project I'm going to measure the performance of the final model to make sure this model can go to the light.\n",
    "- If it's classification problem we can plot the `confusion matrix` and `ROC`\n",
    "#### Optional:\n",
    "At the end of this process we can apply `Feature Importances` Techniques trying to get ride of the unimportant features that can save us time. "
   ]
  },
  {
   "cell_type": "code",
   "execution_count": null,
   "metadata": {},
   "outputs": [],
   "source": []
  }
 ],
 "metadata": {
  "kernelspec": {
   "display_name": "Python 3",
   "language": "python",
   "name": "python3"
  },
  "language_info": {
   "codemirror_mode": {
    "name": "ipython",
    "version": 3
   },
   "file_extension": ".py",
   "mimetype": "text/x-python",
   "name": "python",
   "nbconvert_exporter": "python",
   "pygments_lexer": "ipython3",
   "version": "3.7.1"
  }
 },
 "nbformat": 4,
 "nbformat_minor": 2
}
